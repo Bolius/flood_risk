{
 "cells": [
  {
   "cell_type": "markdown",
   "metadata": {},
   "source": [
    "## Hollowings\n",
    "This notebook shows how a _hollowing_ (lavning) is computed. \n",
    "\n",
    "The goal is to be able to determine if a house is located in a hollwoing and thus \n",
    "has an increased risk of flooding if heavy rain occurs. \n",
    "\n",
    "We can achive this by using the _danish height model_ data set from [kortforsyningen](https://kortforsyningen.dk/indhold/webservice-liste-0). The data set is served in the [wms](https://en.wikipedia.org/wiki/Web_Map_Service) format. The data is returned as images where the pixal value for instance can indicate how big a hollowing is. \n",
    "\n",
    "We split the task into the following steps.\n",
    "1. *Adress lookup:* We must be able to convert an adress of the form `Kjærmarken 103, 6771 gredstedbro` into a set of longtitude and latitude. \n",
    "2. *Image retrival:* Using the longtitude and latitude we retrive the relevant images and convert them to a useable format\n",
    "3. *Compute the risk:* We use the image to compute the risk of flooding. \n",
    "4. *Construct final image:* To add transparency we combine the data images with a proper map and prepare an image that ilustrates the computation and can be shown to the end user. \n",
    "\n",
    "> The notebook is written with test driven development, thus each code cell contains an assertion "
   ]
  },
  {
   "cell_type": "markdown",
   "metadata": {},
   "source": [
    "### Address lookup\n",
    "We start by creating functions that can convert text adresses to coordinates, we use the [Dawa API](https://dawa.aws.dk/dok/api) to perform the lookups"
   ]
  },
  {
   "cell_type": "code",
   "execution_count": 31,
   "metadata": {
    "ExecuteTime": {
     "end_time": "2019-08-20T09:32:22.180511Z",
     "start_time": "2019-08-20T09:32:22.070435Z"
    }
   },
   "outputs": [],
   "source": [
    "import requests\n",
    "import json\n",
    "def addressToLatLong(address):\n",
    "    response = requests.request(\n",
    "        \"GET\", \n",
    "        \"https://dawa.aws.dk/adgangsadresser\", \n",
    "        params={\"q\": address,\"struktur\":\"mini\"}\n",
    "    )\n",
    "    data = json.loads(resp.content)[0]\n",
    "    return data['x'], data['y']\n",
    "\n",
    "x, y = addressToLatLong(\"Kjærmarken 103, 6771 Gredstedbro\")\n",
    "assert x == 8.74228813\n",
    "assert y == 55.40156089"
   ]
  },
  {
   "cell_type": "markdown",
   "metadata": {
    "ExecuteTime": {
     "end_time": "2019-08-20T08:40:19.895693Z",
     "start_time": "2019-08-20T08:40:19.893200Z"
    }
   },
   "source": [
    "#### Bouding box\n",
    "To be able to retrive an image from a [WMS api](https://docs.geoserver.org/stable/en/user/services/wms/reference.html) with a langtitude and latitude pair we must compute a bounding box of the format `minx,miny,maxx,maxy`.\n",
    "\n",
    "Dawa uses the [EPSG:4326](https://epsg.io/4326) projection which corrosponds to standard GPS coordinates. The WMS Api uses the [ESPG spatial refrence system](https://en.wikipedia.org/wiki/Spatial_reference_system), specifically the [EPSG:3857](https://epsg.io/3857) projection wich uses meters as units. \n",
    "\n",
    "We want to be able to specify a bounding box that has the latitude and longtidue as center of the box and then specify how many meters the box should extend in each direction. \n",
    "\n",
    "The steps of computing the bounding box is thus.\n",
    "1. Convert from langtitude lotitude to EPSG:3857 projection. \n",
    "2. Create a box that has the specifyed with and height with the point in the center. \n",
    "\n"
   ]
  },
  {
   "cell_type": "code",
   "execution_count": 41,
   "metadata": {
    "ExecuteTime": {
     "end_time": "2019-08-20T09:42:57.755174Z",
     "start_time": "2019-08-20T09:42:57.231032Z"
    }
   },
   "outputs": [
    {
     "name": "stdout",
     "output_type": "stream",
     "text": [
      "973187.0629996799 7440194.196982217\n"
     ]
    }
   ],
   "source": [
    "from pyproj import Proj, transform\n",
    "def convertEPSG(x, y):\n",
    "    return transform(Proj(init='epsg:4326'), Proj(init='epsg:3857'), x, y)\n",
    "\n",
    "x, y = addressToLatLong(\"Kjærmarken 103, 6771 Gredstedbro\")\n",
    "x, y = convertEPSG(x, y)\n",
    "print(x,y)\n",
    "assert x == 973187.0629996799\n",
    "assert y == 7440194.196982217"
   ]
  }
 ],
 "metadata": {
  "kernelspec": {
   "display_name": "Python 3",
   "language": "python",
   "name": "python3"
  },
  "language_info": {
   "codemirror_mode": {
    "name": "ipython",
    "version": 3
   },
   "file_extension": ".py",
   "mimetype": "text/x-python",
   "name": "python",
   "nbconvert_exporter": "python",
   "pygments_lexer": "ipython3",
   "version": "3.7.4"
  }
 },
 "nbformat": 4,
 "nbformat_minor": 2
}

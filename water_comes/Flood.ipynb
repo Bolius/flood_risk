{
 "cells": [
  {
   "cell_type": "markdown",
   "metadata": {},
   "source": [
    "# Flooding\n",
    "This notebook deals with answering the question: If a flood occurs, will my house be hit? "
   ]
  },
  {
   "cell_type": "code",
   "execution_count": 1,
   "metadata": {
    "ExecuteTime": {
     "end_time": "2019-11-12T09:24:33.196923Z",
     "start_time": "2019-11-12T09:24:33.131441Z"
    }
   },
   "outputs": [],
   "source": [
    "import os, sys\n",
    "%load_ext autoreload\n",
    "%autoreload 2\n",
    "sys.path.append(os.path.pardir)"
   ]
  },
  {
   "cell_type": "code",
   "execution_count": 2,
   "metadata": {
    "ExecuteTime": {
     "end_time": "2019-11-12T09:24:34.917664Z",
     "start_time": "2019-11-12T09:24:33.383244Z"
    }
   },
   "outputs": [],
   "source": [
    "from data_retrival import addressToLatLong\n",
    "x, y = addressToLatLong(\"Kjærmarken 103, 6771 Gredstedbro\")\n",
    "assert x == 55.40156089\n",
    "assert y == 8.74228813"
   ]
  },
  {
   "cell_type": "code",
   "execution_count": 3,
   "metadata": {
    "ExecuteTime": {
     "end_time": "2019-11-12T09:24:34.948473Z",
     "start_time": "2019-11-12T09:24:34.920264Z"
    }
   },
   "outputs": [],
   "source": [
    "from flood import getFloodImg"
   ]
  },
  {
   "cell_type": "code",
   "execution_count": 27,
   "metadata": {
    "ExecuteTime": {
     "end_time": "2019-11-12T09:32:40.713945Z",
     "start_time": "2019-11-12T09:32:40.486967Z"
    }
   },
   "outputs": [
    {
     "data": {
      "image/png": "[encoded data removed]",
      "text/plain": [
       "<PIL.Image.Image image mode=L size=100x100 at 0x12733EB90>"
      ]
     },
     "execution_count": 27,
     "metadata": {},
     "output_type": "execute_result"
    }
   ],
   "source": [
    "x, y = addressToLatLong(\"Hovmålvej 75D, 2300 københavn s\")\n",
    "img = getFloodImg(x, y)\n",
    "img.convert('L')"
   ]
  },
  {
   "cell_type": "code",
   "execution_count": 19,
   "metadata": {
    "ExecuteTime": {
     "end_time": "2019-11-12T09:29:39.570718Z",
     "start_time": "2019-11-12T09:29:39.357733Z"
    }
   },
   "outputs": [
    {
     "data": {
      "image/png": "[encoded data removed]",
      "text/plain": [
       "<PIL.Image.Image image mode=LA size=100x100 at 0x12584AED0>"
      ]
     },
     "execution_count": 19,
     "metadata": {},
     "output_type": "execute_result"
    }
   ],
   "source": [
    "x, y = addressToLatLong(\"kjærmarken 103, 6771 gredstedbro\")\n",
    "getFloodImg(x, y).convert('LA')"
   ]
  },
  {
   "cell_type": "code",
   "execution_count": 100,
   "metadata": {
    "ExecuteTime": {
     "end_time": "2019-11-12T10:57:50.112184Z",
     "start_time": "2019-11-12T10:57:49.165930Z"
    }
   },
   "outputs": [
    {
     "data": {
      "text/plain": [
       "{'high_limit': 400,\n",
       " 'medium_limit': 300,\n",
       " 'low_limit': 200,\n",
       " 'ground_height': 2.0,\n",
       " 'risk': 'high'}"
      ]
     },
     "execution_count": 100,
     "metadata": {},
     "output_type": "execute_result"
    }
   ],
   "source": [
    "x, y = addressToLatLong('Hovmålvej 75d, 2300 københavn')\n",
    "getRisks(x, y )"
   ]
  }
 ],
 "metadata": {
  "kernelspec": {
   "display_name": "Python 3",
   "language": "python",
   "name": "python3"
  },
  "language_info": {
   "codemirror_mode": {
    "name": "ipython",
    "version": 3
   },
   "file_extension": ".py",
   "mimetype": "text/x-python",
   "name": "python",
   "nbconvert_exporter": "python",
   "pygments_lexer": "ipython3",
   "version": "3.7.4"
  }
 },
 "nbformat": 4,
 "nbformat_minor": 2
}

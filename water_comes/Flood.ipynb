{
 "cells": [
  {
   "cell_type": "markdown",
   "metadata": {},
   "source": [
    "# Flooding\n",
    "This notebook deals with answering the question: If a flood occurs, will my house be hit? "
   ]
  },
  {
   "cell_type": "code",
   "execution_count": 7,
   "metadata": {
    "ExecuteTime": {
     "end_time": "2019-11-14T11:39:24.183320Z",
     "start_time": "2019-11-14T11:39:24.152461Z"
    }
   },
   "outputs": [
    {
     "name": "stdout",
     "output_type": "stream",
     "text": [
      "The autoreload extension is already loaded. To reload it, use:\n",
      "  %reload_ext autoreload\n"
     ]
    }
   ],
   "source": [
    "import os, sys\n",
    "%load_ext autoreload\n",
    "%autoreload 2\n",
    "sys.path.append(os.path.pardir)"
   ]
  },
  {
   "cell_type": "code",
   "execution_count": 8,
   "metadata": {
    "ExecuteTime": {
     "end_time": "2019-11-14T11:39:24.532724Z",
     "start_time": "2019-11-14T11:39:24.457856Z"
    }
   },
   "outputs": [],
   "source": [
    "from data_retrival import addressToLatLong\n",
    "x, y = addressToLatLong(\"Kjærmarken 103, 6771 Gredstedbro\")\n",
    "assert x == 55.40156089\n",
    "assert y == 8.74228813"
   ]
  },
  {
   "cell_type": "code",
   "execution_count": 9,
   "metadata": {
    "ExecuteTime": {
     "end_time": "2019-11-14T11:39:24.768714Z",
     "start_time": "2019-11-14T11:39:24.741380Z"
    }
   },
   "outputs": [],
   "source": [
    "from flood import getFloodImg"
   ]
  },
  {
   "cell_type": "code",
   "execution_count": 10,
   "metadata": {
    "ExecuteTime": {
     "end_time": "2019-11-14T11:39:26.129027Z",
     "start_time": "2019-11-14T11:39:25.009562Z"
    }
   },
   "outputs": [
    {
     "data": {
      "image/png": "[encoded data removed]",
      "text/plain": [
       "<PIL.Image.Image image mode=L size=100x100 at 0x10DA36350>"
      ]
     },
     "execution_count": 10,
     "metadata": {},
     "output_type": "execute_result"
    }
   ],
   "source": [
    "x, y = addressToLatLong(\"Hovmålvej 75D, 2300 københavn s\")\n",
    "img = getFloodImg(x, y)\n",
    "img.convert('L')"
   ]
  },
  {
   "cell_type": "code",
   "execution_count": 11,
   "metadata": {
    "ExecuteTime": {
     "end_time": "2019-11-14T11:39:26.454522Z",
     "start_time": "2019-11-14T11:39:26.132016Z"
    }
   },
   "outputs": [
    {
     "data": {
      "image/png": "[encoded data removed]",
      "text/plain": [
       "<PIL.Image.Image image mode=LA size=100x100 at 0x11BDE0B50>"
      ]
     },
     "execution_count": 11,
     "metadata": {},
     "output_type": "execute_result"
    }
   ],
   "source": [
    "x, y = addressToLatLong(\"kjærmarken 103, 6771 gredstedbro\")\n",
    "getFloodImg(x, y).convert('LA')"
   ]
  },
  {
   "cell_type": "code",
   "execution_count": 14,
   "metadata": {
    "ExecuteTime": {
     "end_time": "2019-11-14T11:40:05.403007Z",
     "start_time": "2019-11-14T11:40:04.353295Z"
    }
   },
   "outputs": [
    {
     "data": {
      "text/plain": [
       "{'medium_limit': 190, 'low_limit': 140, 'ground_height': 7.6, 'risk': 'low'}"
      ]
     },
     "execution_count": 14,
     "metadata": {},
     "output_type": "execute_result"
    }
   ],
   "source": [
    "from flood import getRisks\n",
    "x, y = addressToLatLong('Kjærmarken 103, 6771 gredstedbro')\n",
    "getRisks(x, y )"
   ]
  },
  {
   "cell_type": "code",
   "execution_count": null,
   "metadata": {},
   "outputs": [],
   "source": []
  },
  {
   "cell_type": "code",
   "execution_count": null,
   "metadata": {},
   "outputs": [],
   "source": []
  },
  {
   "cell_type": "code",
   "execution_count": null,
   "metadata": {},
   "outputs": [],
   "source": []
  },
  {
   "cell_type": "code",
   "execution_count": null,
   "metadata": {},
   "outputs": [],
   "source": []
  }
 ],
 "metadata": {
  "kernelspec": {
   "display_name": "Python 3",
   "language": "python",
   "name": "python3"
  },
  "language_info": {
   "codemirror_mode": {
    "name": "ipython",
    "version": 3
   },
   "file_extension": ".py",
   "mimetype": "text/x-python",
   "name": "python",
   "nbconvert_exporter": "python",
   "pygments_lexer": "ipython3",
   "version": "3.7.4"
  }
 },
 "nbformat": 4,
 "nbformat_minor": 2
}

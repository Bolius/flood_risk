{
 "cells": [
  {
   "cell_type": "code",
   "execution_count": null,
   "metadata": {},
   "outputs": [],
   "source": [
    "import pandas as pd\n",
    "import base64\n",
    "from PIL import Image\n",
    "pd.options.plotting.backend = \"plotly\"\n",
    "import numpy as np\n",
    "import requests\n",
    "from io import BytesIO\n",
    "from code.lib import get_hollowing_response, address_to_house_data, bounding_box"
   ]
  },
  {
   "cell_type": "code",
   "execution_count": null,
   "metadata": {},
   "outputs": [],
   "source": [
    "im = Image.open('./tests/test_images/buildings.png').convert('L')"
   ]
  },
  {
   "cell_type": "code",
   "execution_count": null,
   "metadata": {},
   "outputs": [],
   "source": [
    "im"
   ]
  },
  {
   "cell_type": "code",
   "execution_count": null,
   "metadata": {},
   "outputs": [],
   "source": [
    "df = np.copy(np.asarray(im))"
   ]
  },
  {
   "cell_type": "code",
   "execution_count": null,
   "metadata": {},
   "outputs": [],
   "source": [
    "for i in range(200):\n",
    "    df[i,i] = 255"
   ]
  },
  {
   "cell_type": "code",
   "execution_count": null,
   "metadata": {},
   "outputs": [],
   "source": [
    "Image.fromarray(df)"
   ]
  },
  {
   "cell_type": "code",
   "execution_count": null,
   "metadata": {},
   "outputs": [],
   "source": [
    "data = address_to_house_data(\"Dronning Dagmars vej 13, 6760 Ribe\")\n",
    "bb = bounding_box(data['coordinates'], ESPG=\"25832\")\n",
    "response = requests.request(\"GET\", \"https://services.kortforsyningen.dk/\", params={\n",
    "            \"service\":\"WMS\",\n",
    "            \"login\":\"rotendahl\",\n",
    "            \"servicename\":\"topo_fot\",\n",
    "            \"password\":\"tLZHWLMo>vg26Ad\",\n",
    "            \"ID\":\"Nedloebsrist\",\n",
    "            \"LAYERS\":\"Nedloebsrist\",\n",
    "            \"TRANSPARENT\":\"TRUE\",\n",
    "            \"VERSION\":\"1.1.1\",\n",
    "            \"REQUEST\":\"GetMap\",\n",
    "            \"STYLES\":\"\",\n",
    "            \"FORMAT\":\"image/png\",\n",
    "            \"SRS\":\"EPSG:25832\",\n",
    "            \"BBOX\":bb,\n",
    "            \"WIDTH\":\"500\",\"HEIGHT\":\"500\"\n",
    "        })\n",
    "img = Image.open(BytesIO(response.content))\n",
    "img"
   ]
  },
  {
   "cell_type": "code",
   "execution_count": null,
   "metadata": {
    "scrolled": false
   },
   "outputs": [],
   "source": [
    "resp = get_hollowing_response(data[\"coordinates\"])\n",
    "image = resp.pop(\"image\")\n",
    "print(resp)\n",
    "Image.open(BytesIO(base64.b64decode(image)))"
   ]
  },
  {
   "cell_type": "code",
   "execution_count": null,
   "metadata": {},
   "outputs": [],
   "source": []
  }
 ],
 "metadata": {
  "kernelspec": {
   "display_name": "Python 3",
   "language": "python",
   "name": "python3"
  },
  "language_info": {
   "codemirror_mode": {
    "name": "ipython",
    "version": 3
   },
   "file_extension": ".py",
   "mimetype": "text/x-python",
   "name": "python",
   "nbconvert_exporter": "python",
   "pygments_lexer": "ipython3",
   "version": "3.9.0"
  }
 },
 "nbformat": 4,
 "nbformat_minor": 4
}

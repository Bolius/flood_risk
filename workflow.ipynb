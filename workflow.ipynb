{
 "cells": [
  {
   "cell_type": "markdown",
   "metadata": {},
   "source": [
    "## Workflow\n",
    "The general purpose of the machine learning section at Bolius is to provide\n",
    "information that might be usable for homeowners. This open goal means that we\n",
    "want to be able to explore new data and how it correlates with existing data\n",
    "quickly. Once a new data set is made available we go through the following\n",
    "steps.  "
   ]
  },
  {
   "cell_type": "markdown",
   "metadata": {},
   "source": [
    "### Exploratory state\n",
    "The raw data is put into the _raw_data_ repo and an overview notebook is created.\n",
    "This notebook must provide at least the following information.  \n",
    "* A short description of how the data was obtained.\n",
    "* How noisy the data is, percentage of missing values, representativity of\n",
    "the data.\n",
    "* Basic plots that show the interesting features of the data.\n",
    "\n",
    "When the exploratory state has yielded a \"gut feeling\" of the data, we present\n",
    "correlations and graphs for the subject-experts at Bolius to get a quick and\n",
    "easy validation.\n",
    "\n"
   ]
  },
  {
   "cell_type": "markdown",
   "metadata": {},
   "source": [
    "### Basic Model state\n",
    "Our  goal of \"helping\" home owners means that there is not always a clear goal\n",
    "with the data. For instance, for the energy-rapport we could either predict\n",
    "energyLabel, energy consumption or any other field. In the basic model state\n",
    "we run several basic models on different fields of the models and examine the\n",
    "results to get a rough idea of what performance we can achieve.\n",
    "\n",
    "The following procedure for data handling is used:\n",
    "1. Shuffle all data in the set to remove any implicit ordering bias.\n",
    "2. Split the data into three parts, A training set, a validation set, and a\n",
    "test set. (The split should be at least 80%, 10%, 10%) unless the data set\n",
    "allows a better split.\n",
    "3. Lock the test set away and do **not** use it until the final models has been\n",
    "selected.\n",
    "4. Test and tune as many models as you like with cross validation on the\n",
    "training set.\n",
    "5. Lock the models in test them on the validation set.\n",
    "\n",
    "\n",
    "Once step 5. has been reached we are ready for another round of presentations\n",
    "for the subject-expert at Bolius. Present them with a confusion matrix for\n",
    "classification, (possibly PCA) scatter plots with guessed and predicted for\n",
    "regression. Do an exercise where you give input from the validation set to the\n",
    "experts and to model and compare performance. It is allowed to go back to step 3\n",
    "and test more models and data transformations to include improvements from the\n",
    "presentation.\n",
    "\n",
    "Once you are ready for production pick the _m_ models that should go live,\n",
    "serialize them and put them in the AI model git repo. Each of the $i$ models in\n",
    "$h_1, \\dots, h_i$. should have a graph (confusion matrix, error bar). The \n",
    "\"yardstick\" chosen for model performance is the following generalization bound, \n",
    "plot it as function of $delta$ and pick an acceptable value.\n",
    "\n",
    "$$\n",
    "  L_{out}(h_i)\\leq L_{test}(h_i)+\\sqrt{\\frac{\\ln({\\frac{m}{\\delta}})}{2n}}\n",
    "$$\n",
    "\n",
    "\n",
    "Then we have a bound of the out of sample error that holds with probability\n",
    "$1-\\delta$.\n",
    "\n",
    ">**WARNING**\n",
    "The above process is extremely prone to [data snooping][dataSnoop], the\n",
    "data must handled in the way describe below or all assurances break.\n",
    "\n",
    "\n",
    "\n",
    "[ORM_URL]: https://github.com/Bolius/machine-learning-orm\n",
    "[dataSnoop]: https://en.wikipedia.org/wiki/Data_dredging"
   ]
  },
  {
   "cell_type": "markdown",
   "metadata": {},
   "source": [
    "### Adding the Data to ORM\n",
    "Some data will lead to new data models in the ORM. As en example an improvement \n",
    "suggestions was implemented as its own class that belongs to a house. Any new \n",
    "data should be added to the ORM as model fields and be stored in the data base. \n",
    "This allows the subject experts to retrieve the information in the visualizer. "
   ]
  },
  {
   "cell_type": "markdown",
   "metadata": {},
   "source": [
    "### Creating a production class\n",
    "Once a model (for example a SKLearn SVM) is ready for production we serialize\n",
    "the SVM object to a file. A new python class is created in the _AI model_ repo.\n",
    "This class must deserialize the model on initialization and provide a predict\n",
    "function for new data. The python class should state clearly in the module\n",
    "header what input it expects, and what preprocessing is done. "
   ]
  },
  {
   "cell_type": "markdown",
   "metadata": {},
   "source": [
    "### Exposing the model\n",
    "To set the model live it must be determined on which model it should live.\n",
    "Review the GraphQL types from the ORM and add it as a field to the appropriate\n",
    "model.  Then create a test where you try to resolve the field for a variety of\n",
    "houses. \n",
    "\n",
    "Once tests has been run, create a pull request on the production branch. \n",
    "Have at least one person review it."
   ]
  },
  {
   "cell_type": "markdown",
   "metadata": {},
   "source": [
    "### Retraining the model\n",
    "Write a function as an admin action that dumps the required fields from the database. \n",
    "Write a small description of which scripts and actions to take to retrain it. \n"
   ]
  }
 ],
 "metadata": {
  "kernelspec": {
   "display_name": "Python 3",
   "language": "python",
   "name": "python3"
  },
  "language_info": {
   "codemirror_mode": {
    "name": "ipython",
    "version": 3
   },
   "file_extension": ".py",
   "mimetype": "text/x-python",
   "name": "python",
   "nbconvert_exporter": "python",
   "pygments_lexer": "ipython3",
   "version": "3.7.2"
  }
 },
 "nbformat": 4,
 "nbformat_minor": 2
}
